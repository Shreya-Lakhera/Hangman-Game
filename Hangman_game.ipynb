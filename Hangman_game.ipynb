{
  "nbformat": 4,
  "nbformat_minor": 0,
  "metadata": {
    "colab": {
      "provenance": []
    },
    "kernelspec": {
      "name": "python3",
      "display_name": "Python 3"
    },
    "language_info": {
      "name": "python"
    }
  },
  "cells": [
    {
      "cell_type": "markdown",
      "source": [
        "HANGMAN GAME"
      ],
      "metadata": {
        "id": "z_0KxpbBTwud"
      }
    },
    {
      "cell_type": "code",
      "source": [
        "import random\n",
        "\n",
        "hangman1 = [\n",
        "\"\"\"\n",
        "+---+\n",
        "    |\n",
        "    |\n",
        "    |\n",
        "    ===\"\"\", \"\"\"\n",
        "+---+\n",
        "  | |\n",
        "  O |\n",
        "    |\n",
        "    ===\"\"\", \"\"\"\n",
        "+---+\n",
        "  | |\n",
        "  O |\n",
        " /| |\n",
        "    ===\"\"\", \"\"\"\n",
        "+---+\n",
        "  | |\n",
        "  O |\n",
        " /|\\|\n",
        "    ===\"\"\", \"\"\"\n",
        "+---+\n",
        "  | |\n",
        "  O |\n",
        " /|\\|\n",
        "  |  ===\"\"\", \"\"\"\n",
        " /\n",
        "+---+\n",
        "  | |\n",
        "  O |\n",
        " /|\\|\n",
        "  |  ===\"\"\", \"\"\"\n",
        " / \\\n",
        "\"\"\"\n",
        "]\n",
        "\n",
        "planets = ['earth', 'jupiter', 'saturn', 'mars', 'uranus', 'venus', 'mercury'\n",
        "'neptune']\n",
        "\n",
        "word = random.choice(planets).lower()\n",
        "\n",
        "\n",
        "guessed_correctly = []\n",
        "guessed_incorrectly = []\n",
        "tries = 6\n",
        "hangman_count = -1\n",
        "while tries > 0:\n",
        "    output = ''\n",
        "    for letter in word:\n",
        "        if letter in guessed_correctly:\n",
        "            output += letter\n",
        "        else:\n",
        "            output += '_ '\n",
        "    if output == word:\n",
        "        break\n",
        "    print(\"Guess the word: \",output)\n",
        "    print(tries,\" chances left\")\n",
        "    guess = input().lower()\n",
        "    if guess in guessed_correctly or guess in guessed_incorrectly:\n",
        "        print(\"Already guessed\", guess)\n",
        "    elif guess in word:\n",
        "        print(\"Awesome! You guessed the correct letter!\")\n",
        "        guessed_correctly.append(guess)\n",
        "    else:\n",
        "        print(\"Sorry! You guessed a wrong letter!\")\n",
        "        hangman_count = hangman_count + 1\n",
        "        tries = tries-1\n",
        "        guessed_incorrectly.append(guess)\n",
        "        print(hangman1[hangman_count])\n",
        "\n",
        "if tries>0:\n",
        "    print(\"You Win!!\")\n",
        "else:\n",
        "    print(\"You lost!Please try again!\")\n"
      ],
      "metadata": {
        "colab": {
          "base_uri": "https://localhost:8080/",
          "height": 443
        },
        "id": "sgUxs4Q6Tyq4",
        "outputId": "a40e27e3-15b0-413d-aea1-2e57beb5ed24"
      },
      "execution_count": 4,
      "outputs": [
        {
          "output_type": "stream",
          "name": "stdout",
          "text": [
            "Guess the word:  _ _ _ _ _ _ \n",
            "6  chances left\n"
          ]
        },
        {
          "output_type": "error",
          "ename": "KeyboardInterrupt",
          "evalue": "ignored",
          "traceback": [
            "\u001b[0;31m---------------------------------------------------------------------------\u001b[0m",
            "\u001b[0;31mKeyboardInterrupt\u001b[0m                         Traceback (most recent call last)",
            "\u001b[0;32m<ipython-input-4-89d8792351a1>\u001b[0m in \u001b[0;36m<cell line: 50>\u001b[0;34m()\u001b[0m\n\u001b[1;32m     59\u001b[0m     \u001b[0mprint\u001b[0m\u001b[0;34m(\u001b[0m\u001b[0;34m\"Guess the word: \"\u001b[0m\u001b[0;34m,\u001b[0m\u001b[0moutput\u001b[0m\u001b[0;34m)\u001b[0m\u001b[0;34m\u001b[0m\u001b[0;34m\u001b[0m\u001b[0m\n\u001b[1;32m     60\u001b[0m     \u001b[0mprint\u001b[0m\u001b[0;34m(\u001b[0m\u001b[0mtries\u001b[0m\u001b[0;34m,\u001b[0m\u001b[0;34m\" chances left\"\u001b[0m\u001b[0;34m)\u001b[0m\u001b[0;34m\u001b[0m\u001b[0;34m\u001b[0m\u001b[0m\n\u001b[0;32m---> 61\u001b[0;31m     \u001b[0mguess\u001b[0m \u001b[0;34m=\u001b[0m \u001b[0minput\u001b[0m\u001b[0;34m(\u001b[0m\u001b[0;34m)\u001b[0m\u001b[0;34m.\u001b[0m\u001b[0mlower\u001b[0m\u001b[0;34m(\u001b[0m\u001b[0;34m)\u001b[0m\u001b[0;34m\u001b[0m\u001b[0;34m\u001b[0m\u001b[0m\n\u001b[0m\u001b[1;32m     62\u001b[0m     \u001b[0;32mif\u001b[0m \u001b[0mguess\u001b[0m \u001b[0;32min\u001b[0m \u001b[0mguessed_correctly\u001b[0m \u001b[0;32mor\u001b[0m \u001b[0mguess\u001b[0m \u001b[0;32min\u001b[0m \u001b[0mguessed_incorrectly\u001b[0m\u001b[0;34m:\u001b[0m\u001b[0;34m\u001b[0m\u001b[0;34m\u001b[0m\u001b[0m\n\u001b[1;32m     63\u001b[0m         \u001b[0mprint\u001b[0m\u001b[0;34m(\u001b[0m\u001b[0;34m\"Already guessed\"\u001b[0m\u001b[0;34m,\u001b[0m \u001b[0mguess\u001b[0m\u001b[0;34m)\u001b[0m\u001b[0;34m\u001b[0m\u001b[0;34m\u001b[0m\u001b[0m\n",
            "\u001b[0;32m/usr/local/lib/python3.10/dist-packages/ipykernel/kernelbase.py\u001b[0m in \u001b[0;36mraw_input\u001b[0;34m(self, prompt)\u001b[0m\n\u001b[1;32m    849\u001b[0m                 \u001b[0;34m\"raw_input was called, but this frontend does not support input requests.\"\u001b[0m\u001b[0;34m\u001b[0m\u001b[0;34m\u001b[0m\u001b[0m\n\u001b[1;32m    850\u001b[0m             )\n\u001b[0;32m--> 851\u001b[0;31m         return self._input_request(str(prompt),\n\u001b[0m\u001b[1;32m    852\u001b[0m             \u001b[0mself\u001b[0m\u001b[0;34m.\u001b[0m\u001b[0m_parent_ident\u001b[0m\u001b[0;34m,\u001b[0m\u001b[0;34m\u001b[0m\u001b[0;34m\u001b[0m\u001b[0m\n\u001b[1;32m    853\u001b[0m             \u001b[0mself\u001b[0m\u001b[0;34m.\u001b[0m\u001b[0m_parent_header\u001b[0m\u001b[0;34m,\u001b[0m\u001b[0;34m\u001b[0m\u001b[0;34m\u001b[0m\u001b[0m\n",
            "\u001b[0;32m/usr/local/lib/python3.10/dist-packages/ipykernel/kernelbase.py\u001b[0m in \u001b[0;36m_input_request\u001b[0;34m(self, prompt, ident, parent, password)\u001b[0m\n\u001b[1;32m    893\u001b[0m             \u001b[0;32mexcept\u001b[0m \u001b[0mKeyboardInterrupt\u001b[0m\u001b[0;34m:\u001b[0m\u001b[0;34m\u001b[0m\u001b[0;34m\u001b[0m\u001b[0m\n\u001b[1;32m    894\u001b[0m                 \u001b[0;31m# re-raise KeyboardInterrupt, to truncate traceback\u001b[0m\u001b[0;34m\u001b[0m\u001b[0;34m\u001b[0m\u001b[0m\n\u001b[0;32m--> 895\u001b[0;31m                 \u001b[0;32mraise\u001b[0m \u001b[0mKeyboardInterrupt\u001b[0m\u001b[0;34m(\u001b[0m\u001b[0;34m\"Interrupted by user\"\u001b[0m\u001b[0;34m)\u001b[0m \u001b[0;32mfrom\u001b[0m \u001b[0;32mNone\u001b[0m\u001b[0;34m\u001b[0m\u001b[0;34m\u001b[0m\u001b[0m\n\u001b[0m\u001b[1;32m    896\u001b[0m             \u001b[0;32mexcept\u001b[0m \u001b[0mException\u001b[0m \u001b[0;32mas\u001b[0m \u001b[0me\u001b[0m\u001b[0;34m:\u001b[0m\u001b[0;34m\u001b[0m\u001b[0;34m\u001b[0m\u001b[0m\n\u001b[1;32m    897\u001b[0m                 \u001b[0mself\u001b[0m\u001b[0;34m.\u001b[0m\u001b[0mlog\u001b[0m\u001b[0;34m.\u001b[0m\u001b[0mwarning\u001b[0m\u001b[0;34m(\u001b[0m\u001b[0;34m\"Invalid Message:\"\u001b[0m\u001b[0;34m,\u001b[0m \u001b[0mexc_info\u001b[0m\u001b[0;34m=\u001b[0m\u001b[0;32mTrue\u001b[0m\u001b[0;34m)\u001b[0m\u001b[0;34m\u001b[0m\u001b[0;34m\u001b[0m\u001b[0m\n",
            "\u001b[0;31mKeyboardInterrupt\u001b[0m: Interrupted by user"
          ]
        }
      ]
    }
  ]
}